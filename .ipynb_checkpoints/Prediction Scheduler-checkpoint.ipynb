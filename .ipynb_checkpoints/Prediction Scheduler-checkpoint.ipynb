{
 "cells": [
  {
   "cell_type": "markdown",
   "metadata": {},
   "source": [
    "# Scheduling a job to predict images"
   ]
  },
  {
   "cell_type": "markdown",
   "metadata": {},
   "source": [
    "## Citation\n",
    "\n",
    "Title : Prediction - Job\n",
    "\n",
    "Author : Karan Barai, Gauravi Chaudhari, Pranav Swaminathan\n",
    "\n",
    "Date: 04/01/2018\n",
    "\n",
    "Code Version: 1.0.2\n",
    "\n",
    "Availability: www.github.com/BaraiKaran"
   ]
  },
  {
   "cell_type": "markdown",
   "metadata": {},
   "source": [
    "## Introduction:\n",
    "\n",
    "Here we are setting up a job using schedule and time library of python which will get all the unprocessed images every minute and pass them through the predict function. \n",
    "\n",
    "We are storing the weights of the trained CNN model and passing it to the predict function.\n",
    "\n",
    "Libraries Used - \n",
    "\n",
    "1. Keras: Deep learning library in python. Used to perform convolution, pooling etc functions on images (explained in CNN model notebook.)\n",
    "2. Numpy: numpy is a library for the Python programming language, adding support for large, multi-dimensional arrays and matrices, along with a large collection of high-level mathematical functions to operate on these arrays.\n",
    "3. Schedule and time: These libraries help in automating certain tasks and repeat them in certain intervals of time."
   ]
  },
  {
   "cell_type": "code",
   "execution_count": 8,
   "metadata": {},
   "outputs": [
    {
     "name": "stdout",
     "output_type": "stream",
     "text": [
      "Dunkin Donuts\n"
     ]
    }
   ],
   "source": [
    "from keras.models import load_model\n",
    "import numpy as np\n",
    "from keras.preprocessing import image\n",
    "from PIL import Image\n",
    "import csv\n",
    "\n",
    "\n",
    "import schedule\n",
    "import time\n",
    "pred=[]\n",
    "def job():\n",
    "    \n",
    "    \n",
    "    import glob, os, shutil\n",
    "    os.chdir(\"BDIA\\unprocessed\")\n",
    "    for file in glob.glob(\"*.png\"):\n",
    "        model = load_model(\"bdiaprojfinal.h5\")  # loading weights of our trained CNN model.\n",
    "        test_image = Image.open('Image\\unprocessed' + file)\n",
    "        test_image = image.img_to_array(test_image)\n",
    "        test_image = np.expand_dims(test_image, axis=0)\n",
    "        result = model.predict(test_image)  # predicting class of the image by passing image through CNN\n",
    "        if result[0] == 0:\n",
    "               prediction = 'Dunkin Donuts'\n",
    "        elif result[0] == 1:\n",
    "               prediction = 'starbucks'    \n",
    "        shutil.move('Images\\unprocessed' + file, 'Images\\processed')\n",
    "        \n",
    "        pred = [file,prediction]\n",
    "        with open('predictedImages.csv', 'wb') as f:\n",
    "        writer = csv.writer(f)\n",
    "        writer.writerows(pred)\n",
    "        \n",
    "        \n",
    "# Scheduling job every 1 minute.\n",
    "schedule.every(1).minutes.do(job)     # scheduling job to run every minute.\n",
    "\n",
    "while 1:\n",
    "    schedule.run_pending()\n",
    "    time.sleep(1)"
   ]
  },
  {
   "cell_type": "markdown",
   "metadata": {},
   "source": [
    "MIT License\n",
    "\n",
    "Copyright (c) 2018, Karan Barai, Gauravi Chaudhari, Pranav Swaminathan\n",
    "\n",
    "Permission is hereby granted, free of charge, to any person obtaining a copy of this software and associated documentation files (the \"Software\"), to deal in the Software without restriction, including without limitation the rights to use, copy, modify, merge, publish, distribute, sublicense, and/or sell copies of the Software, and to permit persons to whom the Software is furnished to do so, subject to the following conditions:\n",
    "\n",
    "The above copyright notice and this permission notice shall be included in all copies or substantial portions of the Software.\n",
    "\n",
    "THE SOFTWARE IS PROVIDED \"AS IS\", WITHOUT WARRANTY OF ANY KIND, EXPRESS OR IMPLIED, INCLUDING BUT NOT LIMITED TO THE WARRANTIES OF MERCHANTABILITY, FITNESS FOR A PARTICULAR PURPOSE AND NONINFRINGEMENT. IN NO EVENT SHALL THE AUTHORS OR COPYRIGHT HOLDERS BE LIABLE FOR ANY CLAIM, DAMAGES OR OTHER LIABILITY, WHETHER IN AN ACTION OF CONTRACT, TORT OR OTHERWISE, ARISING FROM, OUT OF OR IN CONNECTION WITH THE SOFTWARE OR THE USE OR OTHER DEALINGS IN THE SOFTWARE."
   ]
  },
  {
   "cell_type": "markdown",
   "metadata": {},
   "source": [
    "Creative common Attribution 3.0 license\n",
    "\n",
    "THE WORK (AS DEFINED BELOW) IS PROVIDED UNDER THE TERMS OF THIS CREATIVE COMMONS PUBLIC LICENSE (\"CCPL\" OR \"LICENSE\"). THE WORK IS PROTECTED BY COPYRIGHT AND/OR OTHER APPLICABLE LAW. ANY USE OF THE WORK OTHER THAN AS AUTHORIZED UNDER THIS LICENSE OR COPYRIGHT LAW IS PROHIBITED.\n",
    "\n",
    "BY EXERCISING ANY RIGHTS TO THE WORK PROVIDED HERE, YOU ACCEPT AND AGREE TO BE BOUND BY THE TERMS OF THIS LICENSE. TO THE EXTENT THIS LICENSE MAY BE CONSIDERED TO BE A CONTRACT, THE LICENSOR GRANTS YOU THE RIGHTS CONTAINED HERE IN CONSIDERATION OF YOUR ACCEPTANCE OF SUCH TERMS AND CONDITIONS.\n",
    "\n",
    "\"Work\" means the copyrightable work of authorship offered under the terms of this License."
   ]
  },
  {
   "cell_type": "code",
   "execution_count": null,
   "metadata": {
    "collapsed": true
   },
   "outputs": [],
   "source": []
  }
 ],
 "metadata": {
  "kernelspec": {
   "display_name": "Python 3",
   "language": "python",
   "name": "python3"
  },
  "language_info": {
   "codemirror_mode": {
    "name": "ipython",
    "version": 3
   },
   "file_extension": ".py",
   "mimetype": "text/x-python",
   "name": "python",
   "nbconvert_exporter": "python",
   "pygments_lexer": "ipython3",
   "version": "3.6.3"
  }
 },
 "nbformat": 4,
 "nbformat_minor": 2
}
